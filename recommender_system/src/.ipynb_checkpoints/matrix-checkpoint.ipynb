{
 "cells": [
  {
   "cell_type": "code",
   "execution_count": 1,
   "metadata": {},
   "outputs": [
    {
     "data": {
      "text/plain": [
       "'0.20.1'"
      ]
     },
     "execution_count": 1,
     "metadata": {},
     "output_type": "execute_result"
    }
   ],
   "source": [
    "import pandas as pd\n",
    "import numpy as np\n",
    "import matplotlib.pyplot as plt\n",
    "import seaborn as sns\n",
    "from sklearn.metrics.pairwise import cosine_similarity\n",
    "pd.__version__"
   ]
  },
  {
   "cell_type": "code",
   "execution_count": 120,
   "metadata": {
    "scrolled": true
   },
   "outputs": [
    {
     "name": "stdout",
     "output_type": "stream",
     "text": [
      "verbose ==> False\n"
     ]
    }
   ],
   "source": [
    "%run 'movies.ipynb'\n",
    "%run 'tags.ipynb'\n",
    "%run 'ratings.ipynb'\n",
    "\n",
    "Tags = getTags()\n",
    "allMovies = getMovies()\n",
    "Ratings = getRatings()"
   ]
  },
  {
   "cell_type": "code",
   "execution_count": 123,
   "metadata": {},
   "outputs": [
    {
     "data": {
      "text/html": [
       "<div>\n",
       "<style>\n",
       "    .dataframe thead tr:only-child th {\n",
       "        text-align: right;\n",
       "    }\n",
       "\n",
       "    .dataframe thead th {\n",
       "        text-align: left;\n",
       "    }\n",
       "\n",
       "    .dataframe tbody tr th {\n",
       "        vertical-align: top;\n",
       "    }\n",
       "</style>\n",
       "<table border=\"1\" class=\"dataframe\">\n",
       "  <thead>\n",
       "    <tr style=\"text-align: right;\">\n",
       "      <th></th>\n",
       "      <th>film-noir</th>\n",
       "      <th>drama</th>\n",
       "      <th>dra</th>\n",
       "      <th>crime</th>\n",
       "      <th>sci-fi</th>\n",
       "      <th>title</th>\n",
       "      <th>movieId</th>\n",
       "      <th>horror</th>\n",
       "      <th>imax</th>\n",
       "      <th>thriller</th>\n",
       "      <th>war</th>\n",
       "      <th>romancecioccolata</th>\n",
       "      <th>mystery</th>\n",
       "      <th>western</th>\n",
       "      <th>romance</th>\n",
       "      <th>action</th>\n",
       "      <th>children</th>\n",
       "      <th>fantasy</th>\n",
       "      <th>documentary</th>\n",
       "      <th>year</th>\n",
       "      <th>comedy</th>\n",
       "      <th>musical</th>\n",
       "      <th>adventure</th>\n",
       "      <th>animation</th>\n",
       "    </tr>\n",
       "  </thead>\n",
       "  <tbody>\n",
       "    <tr>\n",
       "      <th>300</th>\n",
       "      <td>0</td>\n",
       "      <td>0</td>\n",
       "      <td>0</td>\n",
       "      <td>0</td>\n",
       "      <td>0</td>\n",
       "      <td>Underneath (1995)</td>\n",
       "      <td>335</td>\n",
       "      <td>0</td>\n",
       "      <td>0</td>\n",
       "      <td>1</td>\n",
       "      <td>0</td>\n",
       "      <td>0</td>\n",
       "      <td>1</td>\n",
       "      <td>0</td>\n",
       "      <td>0</td>\n",
       "      <td>0</td>\n",
       "      <td>0</td>\n",
       "      <td>0</td>\n",
       "      <td>0</td>\n",
       "      <td>1995</td>\n",
       "      <td>0</td>\n",
       "      <td>0</td>\n",
       "      <td>0</td>\n",
       "      <td>0</td>\n",
       "    </tr>\n",
       "    <tr>\n",
       "      <th>135</th>\n",
       "      <td>0</td>\n",
       "      <td>1</td>\n",
       "      <td>0</td>\n",
       "      <td>0</td>\n",
       "      <td>0</td>\n",
       "      <td>Blue in the Face (1995)</td>\n",
       "      <td>156</td>\n",
       "      <td>0</td>\n",
       "      <td>0</td>\n",
       "      <td>0</td>\n",
       "      <td>0</td>\n",
       "      <td>0</td>\n",
       "      <td>0</td>\n",
       "      <td>0</td>\n",
       "      <td>0</td>\n",
       "      <td>0</td>\n",
       "      <td>0</td>\n",
       "      <td>0</td>\n",
       "      <td>0</td>\n",
       "      <td>1995</td>\n",
       "      <td>1</td>\n",
       "      <td>0</td>\n",
       "      <td>0</td>\n",
       "      <td>0</td>\n",
       "    </tr>\n",
       "  </tbody>\n",
       "</table>\n",
       "</div>"
      ],
      "text/plain": [
       "    film-noir drama dra crime sci-fi                    title movieId horror  \\\n",
       "300         0     0   0     0      0        Underneath (1995)     335      0   \n",
       "135         0     1   0     0      0  Blue in the Face (1995)     156      0   \n",
       "\n",
       "    imax thriller war romancecioccolata mystery western romance action  \\\n",
       "300    0        1   0                 0       1       0       0      0   \n",
       "135    0        0   0                 0       0       0       0      0   \n",
       "\n",
       "    children fantasy documentary  year comedy musical adventure animation  \n",
       "300        0       0           0  1995      0       0         0         0  \n",
       "135        0       0           0  1995      1       0         0         0  "
      ]
     },
     "execution_count": 123,
     "metadata": {},
     "output_type": "execute_result"
    }
   ],
   "source": [
    "allMovies.sample(2).head()"
   ]
  },
  {
   "cell_type": "code",
   "execution_count": 124,
   "metadata": {},
   "outputs": [
    {
     "name": "stdout",
     "output_type": "stream",
     "text": [
      "You want to find movies similar to <<492>> with id << Manhattan Murder Mystery (1993) >>\n"
     ]
    }
   ],
   "source": [
    "scaled_movies = scale_year(allMovies)\n",
    "sim_from, sim_to = get_source_and_target_movies(allMovies=scaled_movies)\n",
    "movie_name = allMovies[allMovies['title'] == sim_to.index.values[0]].movieId.values[0]\n",
    "print('You want to find movies similar to <<%s>> with id << %s >>' % (movie_name, sim_to.index.values[0]))"
   ]
  },
  {
   "cell_type": "code",
   "execution_count": 125,
   "metadata": {},
   "outputs": [
    {
     "data": {
      "text/html": [
       "<div>\n",
       "<style>\n",
       "    .dataframe thead tr:only-child th {\n",
       "        text-align: right;\n",
       "    }\n",
       "\n",
       "    .dataframe thead th {\n",
       "        text-align: left;\n",
       "    }\n",
       "\n",
       "    .dataframe tbody tr th {\n",
       "        vertical-align: top;\n",
       "    }\n",
       "</style>\n",
       "<table border=\"1\" class=\"dataframe\">\n",
       "  <thead>\n",
       "    <tr style=\"text-align: right;\">\n",
       "      <th></th>\n",
       "      <th>film-noir</th>\n",
       "      <th>drama</th>\n",
       "      <th>dra</th>\n",
       "      <th>crime</th>\n",
       "      <th>sci-fi</th>\n",
       "      <th>horror</th>\n",
       "      <th>imax</th>\n",
       "      <th>thriller</th>\n",
       "      <th>war</th>\n",
       "      <th>romancecioccolata</th>\n",
       "      <th>mystery</th>\n",
       "      <th>western</th>\n",
       "      <th>romance</th>\n",
       "      <th>action</th>\n",
       "      <th>children</th>\n",
       "      <th>fantasy</th>\n",
       "      <th>documentary</th>\n",
       "      <th>year</th>\n",
       "      <th>comedy</th>\n",
       "      <th>musical</th>\n",
       "      <th>adventure</th>\n",
       "      <th>animation</th>\n",
       "    </tr>\n",
       "    <tr>\n",
       "      <th>title</th>\n",
       "      <th></th>\n",
       "      <th></th>\n",
       "      <th></th>\n",
       "      <th></th>\n",
       "      <th></th>\n",
       "      <th></th>\n",
       "      <th></th>\n",
       "      <th></th>\n",
       "      <th></th>\n",
       "      <th></th>\n",
       "      <th></th>\n",
       "      <th></th>\n",
       "      <th></th>\n",
       "      <th></th>\n",
       "      <th></th>\n",
       "      <th></th>\n",
       "      <th></th>\n",
       "      <th></th>\n",
       "      <th></th>\n",
       "      <th></th>\n",
       "      <th></th>\n",
       "      <th></th>\n",
       "    </tr>\n",
       "  </thead>\n",
       "  <tbody>\n",
       "    <tr>\n",
       "      <th>Manhattan Murder Mystery (1993)</th>\n",
       "      <td>0</td>\n",
       "      <td>0</td>\n",
       "      <td>0</td>\n",
       "      <td>0</td>\n",
       "      <td>0</td>\n",
       "      <td>0</td>\n",
       "      <td>0</td>\n",
       "      <td>0</td>\n",
       "      <td>0</td>\n",
       "      <td>0</td>\n",
       "      <td>1</td>\n",
       "      <td>0</td>\n",
       "      <td>0</td>\n",
       "      <td>0</td>\n",
       "      <td>0</td>\n",
       "      <td>0</td>\n",
       "      <td>0</td>\n",
       "      <td>-32.8144</td>\n",
       "      <td>1</td>\n",
       "      <td>0</td>\n",
       "      <td>0</td>\n",
       "      <td>0</td>\n",
       "    </tr>\n",
       "  </tbody>\n",
       "</table>\n",
       "</div>"
      ],
      "text/plain": [
       "                                film-noir drama dra crime sci-fi horror imax  \\\n",
       "title                                                                          \n",
       "Manhattan Murder Mystery (1993)         0     0   0     0      0      0    0   \n",
       "\n",
       "                                thriller war romancecioccolata mystery  \\\n",
       "title                                                                    \n",
       "Manhattan Murder Mystery (1993)        0   0                 0       1   \n",
       "\n",
       "                                western romance action children fantasy  \\\n",
       "title                                                                     \n",
       "Manhattan Murder Mystery (1993)       0       0      0        0       0   \n",
       "\n",
       "                                documentary     year comedy musical adventure  \\\n",
       "title                                                                           \n",
       "Manhattan Murder Mystery (1993)           0 -32.8144      1       0         0   \n",
       "\n",
       "                                animation  \n",
       "title                                      \n",
       "Manhattan Murder Mystery (1993)         0  "
      ]
     },
     "execution_count": 125,
     "metadata": {},
     "output_type": "execute_result"
    }
   ],
   "source": [
    "sim_to.head()"
   ]
  },
  {
   "cell_type": "code",
   "execution_count": 126,
   "metadata": {},
   "outputs": [
    {
     "ename": "SyntaxError",
     "evalue": "unexpected EOF while parsing (<ipython-input-126-a7c98ba6f2e4>, line 1)",
     "output_type": "error",
     "traceback": [
      "\u001b[0;36m  File \u001b[0;32m\"<ipython-input-126-a7c98ba6f2e4>\"\u001b[0;36m, line \u001b[0;32m1\u001b[0m\n\u001b[0;31m    def recommend_movie():\u001b[0m\n\u001b[0m                          ^\u001b[0m\n\u001b[0;31mSyntaxError\u001b[0m\u001b[0;31m:\u001b[0m unexpected EOF while parsing\n"
     ]
    }
   ],
   "source": [
    "%run 'rec_engine_content_based_non_personalized.ipynb'\n",
    "\n",
    "similar_movies = find_similar_movies(sim_to=sim_to, sim_from=sim_from);"
   ]
  },
  {
   "cell_type": "code",
   "execution_count": 119,
   "metadata": {},
   "outputs": [
    {
     "data": {
      "text/plain": [
       "341                  Speed (1994)\n",
       "373             Blown Away (1994)\n",
       "199              Drop Zone (1994)\n",
       "340        River Wild, The (1994)\n",
       "90                Shopping (1994)\n",
       "356                 Mirage (1995)\n",
       "83            Nick of Time (1995)\n",
       "422    In the Line of Fire (1993)\n",
       "344              True Lies (1994)\n",
       "408           Getaway, The (1994)\n",
       "Name: title, dtype: object"
      ]
     },
     "execution_count": 119,
     "metadata": {},
     "output_type": "execute_result"
    }
   ],
   "source": [
    "sim_df = pd.DataFrame(data=similar_movies, columns=['title', 'sim_index'])\n",
    "sim_df = sim_df.sort_values(by=['sim_index'], ascending=False)\n",
    "sim_df['title'].head(10)"
   ]
  }
 ],
 "metadata": {
  "kernelspec": {
   "display_name": "Python 3",
   "language": "python",
   "name": "python3"
  },
  "language_info": {
   "codemirror_mode": {
    "name": "ipython",
    "version": 3
   },
   "file_extension": ".py",
   "mimetype": "text/x-python",
   "name": "python",
   "nbconvert_exporter": "python",
   "pygments_lexer": "ipython3",
   "version": "3.6.1"
  }
 },
 "nbformat": 4,
 "nbformat_minor": 2
}

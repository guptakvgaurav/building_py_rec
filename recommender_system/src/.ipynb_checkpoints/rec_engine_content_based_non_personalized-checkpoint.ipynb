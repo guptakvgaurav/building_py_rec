{
 "cells": [
  {
   "cell_type": "code",
   "execution_count": 4,
   "metadata": {
    "collapsed": true
   },
   "outputs": [],
   "source": [
    "def find_similar_movies(sim_to, sim_from, count=10):\n",
    "    list_of_movies_with_sim_index = [];\n",
    "    vec_X = sim_to.values[0];\n",
    "    norm_X = np.linalg.norm(vec_X);\n",
    "    if(norm_X == 0):\n",
    "        return list_of_movies_with_sim_index;\n",
    "    \n",
    "    for index, movie in sim_from.iterrows():\n",
    "        vec_Y = movie.values;\n",
    "        norm_Y = np.linalg.norm(vec_Y);\n",
    "        if norm_Y != 0:\n",
    "            X_dot_Y = np.dot(vec_X, vec_Y);\n",
    "            cos_theta = (X_dot_Y / ( norm_X * norm_Y ));\n",
    "            list_of_movies_with_sim_index.append((index, cos_theta))\n",
    "    return np.array(list_of_movies_with_sim_index);"
   ]
  }
 ],
 "metadata": {
  "kernelspec": {
   "display_name": "Python 3",
   "language": "python",
   "name": "python3"
  },
  "language_info": {
   "codemirror_mode": {
    "name": "ipython",
    "version": 3
   },
   "file_extension": ".py",
   "mimetype": "text/x-python",
   "name": "python",
   "nbconvert_exporter": "python",
   "pygments_lexer": "ipython3",
   "version": "3.6.1"
  }
 },
 "nbformat": 4,
 "nbformat_minor": 2
}

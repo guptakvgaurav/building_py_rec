{
 "cells": [
  {
   "cell_type": "code",
   "execution_count": 34,
   "metadata": {
    "collapsed": true
   },
   "outputs": [],
   "source": [
    "import pandas as pd\n",
    "import numpy as np\n",
    "import matplotlib.pyplot as plt\n",
    "import re;  # Library for regex.\n",
    "import seaborn as sns\n",
    "\n",
    "pd.set_option('display.max_columns', None)"
   ]
  },
  {
   "cell_type": "code",
   "execution_count": 35,
   "metadata": {
    "collapsed": true
   },
   "outputs": [],
   "source": [
    "moviePath = \"../data/ml-latest-small/movie_sample.csv\";\n",
    "#movies = pd.read_csv(\"../data/ml-latest-small/movies.csv\")"
   ]
  },
  {
   "cell_type": "code",
   "execution_count": 36,
   "metadata": {
    "collapsed": true,
    "scrolled": false
   },
   "outputs": [],
   "source": [
    "class Preprocessor:\n",
    "    mPath = None;\n",
    "    df = None;\n",
    "    \n",
    "    def __init__(self, path):\n",
    "        self.mPath = path;\n",
    "        \n",
    "    def read(self):\n",
    "        self.df = pd.read_csv(self.mPath);\n",
    "        return self.df;\n",
    "        \n",
    "    def __findUniqueGenres(self):\n",
    "        setOfGenres = set();\n",
    "        for index, genre in self.df['genres'].iteritems():\n",
    "            listOfGenreInMovie = genre.lower().split(\"|\");\n",
    "            for i, _genre in np.ndenumerate(listOfGenreInMovie):\n",
    "                setOfGenres.add(_genre)\n",
    "        return setOfGenres;\n",
    "    \n",
    "    def __prepareDataframe(self, genres):\n",
    "        all_columns = set([\"title\", \"movieId\", \"year\"]).union(genres)\n",
    "        _df = pd.DataFrame(columns=all_columns)\n",
    "        return _df;\n",
    "    \n",
    "    def __getRowTemplate(self, listOfColumns):\n",
    "        _rowTemplate = {}\n",
    "        for col in listOfColumns:\n",
    "            if col == 'title':\n",
    "                _rowTemplate[col] = \"\"\n",
    "            elif col == \"year\" or _rowTemplate == \"movieId\":\n",
    "                _rowTemplate[col] = np.nan\n",
    "            else:\n",
    "                _rowTemplate[col] = 0\n",
    "        return _rowTemplate;\n",
    "    \n",
    "    def __createRow(self, rowTemplate, row):\n",
    "        rowTemplate['title'] = row.title;\n",
    "        rowTemplate['movieId'] = row.movieId;\n",
    "        \n",
    "        m = re.search('\\(([^]]+)\\)', row.title)\n",
    "        rowTemplate['year'] = int(m.group(1))\n",
    "        movieGenres = row.genres.lower().split(\"|\");\n",
    "        for movieGenre in movieGenres:\n",
    "            rowTemplate[movieGenre] = 1;\n",
    "        return rowTemplate;\n",
    "    \n",
    "    def tranformDataFrame(self, config):\n",
    "        for k,v in config.items():\n",
    "            print(k,\"==>\", v)\n",
    "        \n",
    "        genres = self.__findUniqueGenres();\n",
    "        if config['verbose'] == True:\n",
    "            print('### List of genres...', genres);\n",
    "        __df = self.__prepareDataframe(genres); # Data frame with all required columns.\n",
    "        rowTemplate = self.__getRowTemplate(__df.columns)\n",
    "        if config['verbose'] == True:\n",
    "            print('### Row template looks like -->', rowTemplate)\n",
    "        collection = []\n",
    "        for index, row in self.df.iterrows():\n",
    "            _rowToAdd = self.__createRow(dict(rowTemplate), row);\n",
    "            if config['verbose'] == True:\n",
    "                print('### Row looks like', _rowToAdd)\n",
    "            collection.append(_rowToAdd)\n",
    "\n",
    "        if config['verbose'] == True:\n",
    "            print('### Collection looks like', collection)\n",
    "        return __df.append(collection)"
   ]
  },
  {
   "cell_type": "code",
   "execution_count": 37,
   "metadata": {
    "collapsed": true
   },
   "outputs": [],
   "source": [
    "defaultConfig = dict({\n",
    "    'verbose': False\n",
    "})\n",
    "def getMovies(config = defaultConfig):\n",
    "    moviePreprocessor = Preprocessor(moviePath);\n",
    "    moviePreprocessor.read()\n",
    "    return moviePreprocessor.tranformDataFrame(config=config)"
   ]
  },
  {
   "cell_type": "code",
   "execution_count": null,
   "metadata": {
    "collapsed": true
   },
   "outputs": [],
   "source": []
  }
 ],
 "metadata": {
  "kernelspec": {
   "display_name": "Python 3",
   "language": "python",
   "name": "python3"
  },
  "language_info": {
   "codemirror_mode": {
    "name": "ipython",
    "version": 3
   },
   "file_extension": ".py",
   "mimetype": "text/x-python",
   "name": "python",
   "nbconvert_exporter": "python",
   "pygments_lexer": "ipython3",
   "version": "3.6.1"
  }
 },
 "nbformat": 4,
 "nbformat_minor": 2
}

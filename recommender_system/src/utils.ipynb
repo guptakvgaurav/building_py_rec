{
 "cells": [
  {
   "cell_type": "code",
   "execution_count": 1,
   "metadata": {
    "collapsed": true
   },
   "outputs": [],
   "source": [
    "def getAverageRatings(Ratings):\n",
    "    movieGroup = Ratings.groupby(by=['movieId'])\n",
    "    mId = []\n",
    "    for name, group in movieGroup:\n",
    "        mId.append((name, group['rating'].mean()))\n",
    "    return pd.DataFrame(data=mId, columns=['movieId', 'Avg_rating'])"
   ]
  },
  {
   "cell_type": "code",
   "execution_count": 2,
   "metadata": {
    "collapsed": true
   },
   "outputs": [],
   "source": [
    "def dropFeatures(df, features):\n",
    "    return df.drop(features, axis=1);"
   ]
  },
  {
   "cell_type": "code",
   "execution_count": 3,
   "metadata": {
    "collapsed": true
   },
   "outputs": [],
   "source": [
    "def get_source_and_target_movies(allMovies):\n",
    "    '''\n",
    "    Return a movie(sim_to) whose similar movies(sim_from) needs to be find out.\n",
    "    '''\n",
    "    # pick a sample from all movies\n",
    "    sourceMovie = allMovies.sample(1);\n",
    "    \n",
    "    # list out features which can not be compared.\n",
    "    features_not_to_consider = ['movieId'];\n",
    "    \n",
    "    # set index for identification\n",
    "    allMovies = allMovies.set_index('title')\n",
    "    sourceMovie = sourceMovie.set_index('title')\n",
    "    \n",
    "    # remove feature which can not be compared\n",
    "    df_all_movies = dropFeatures(df=allMovies, features=features_not_to_consider);\n",
    "    sourceMovie = dropFeatures(df=sourceMovie, features=features_not_to_consider);\n",
    "    \n",
    "    return df_all_movies, sourceMovie;"
   ]
  },
  {
   "cell_type": "code",
   "execution_count": 4,
   "metadata": {
    "collapsed": true
   },
   "outputs": [],
   "source": [
    "def scale_year(df, col):\n",
    "    '''\n",
    "    Scale column \n",
    "    '''\n",
    "    min_year = df[col].min()\n",
    "    max_year = df[col].max()\n",
    "    return ((df[col] - min_year) / (max_year - min_year))"
   ]
  }
 ],
 "metadata": {
  "kernelspec": {
   "display_name": "Python 3",
   "language": "python",
   "name": "python3"
  },
  "language_info": {
   "codemirror_mode": {
    "name": "ipython",
    "version": 3
   },
   "file_extension": ".py",
   "mimetype": "text/x-python",
   "name": "python",
   "nbconvert_exporter": "python",
   "pygments_lexer": "ipython3",
   "version": "3.6.1"
  }
 },
 "nbformat": 4,
 "nbformat_minor": 2
}
